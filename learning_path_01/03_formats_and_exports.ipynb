{
 "cells": [
  {
   "cell_type": "markdown",
   "id": "181de021",
   "metadata": {},
   "source": [
    "# Formats & Export: Getting Models Across Borders"
   ]
  },
  {
   "cell_type": "code",
   "execution_count": null,
   "id": "665c9f69-9ec3-420a-9f72-0f167bcd3ff4",
   "metadata": {},
   "outputs": [],
   "source": [
    "# Download Gemma 2B (requires license acceptance on HF). Choose one:\n",
    "MODEL_ID = \"google/gemma-2-2b-it\"\n",
    "\n",
    "from pathlib import Path\n",
    "onnx_dir = Path(\"onnx_gemma2b\")\n",
    "onnx_dir.mkdir(exist_ok=True)\n",
    "\n",
    "print(\"Selected model:\", MODEL_ID)\n",
    "print(\"ONNX export dir:\", onnx_dir.resolve())"
   ]
  }
 ],
 "metadata": {
  "kernelspec": {
   "display_name": "Python 3 (ipykernel)",
   "language": "python",
   "name": "python3"
  },
  "language_info": {
   "codemirror_mode": {
    "name": "ipython",
    "version": 3
   },
   "file_extension": ".py",
   "mimetype": "text/x-python",
   "name": "python",
   "nbconvert_exporter": "python",
   "pygments_lexer": "ipython3",
   "version": "3.10.12"
  }
 },
 "nbformat": 4,
 "nbformat_minor": 5
}
